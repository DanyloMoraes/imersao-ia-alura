{
  "nbformat": 4,
  "nbformat_minor": 0,
  "metadata": {
    "colab": {
      "provenance": []
    },
    "kernelspec": {
      "name": "python3",
      "display_name": "Python 3"
    },
    "language_info": {
      "name": "python"
    }
  },
  "cells": [
    {
      "cell_type": "code",
      "source": [
        "# Porcentagem ou exclamação é uma \"magic command\" do Google Colab,\n",
        "# usada para instalar pacotes diretamente no ambiente do notebook\n",
        "%pip -q install google-genai\n"
      ],
      "metadata": {
        "id": "UCCbECexLk_h"
      },
      "execution_count": 47,
      "outputs": []
    },
    {
      "cell_type": "code",
      "source": [
        "# Configura a API Key do Google Gemini\n",
        "\n",
        "import os\n",
        "from google.colab import userdata\n",
        "\n",
        "os.environ[\"GOOGLE_API_KEY\"] = userdata.get('GOOGLE_API_KEY')"
      ],
      "metadata": {
        "id": "NfCqHo1tLk8P"
      },
      "execution_count": 48,
      "outputs": []
    },
    {
      "cell_type": "code",
      "source": [
        "# Configura o cliente da SDK do Gemini\n",
        "\n",
        "from google import genai\n",
        "\n",
        "client = genai.Client()\n",
        "\n",
        "MODEL_ID = \"gemini-2.0-flash\""
      ],
      "metadata": {
        "id": "bV4w0H5TLk5g"
      },
      "execution_count": 49,
      "outputs": []
    },
    {
      "cell_type": "code",
      "source": [
        "# Importa \"HTML e Markdown\"\n",
        "\n",
        "from IPython.display import HTML, Markdown"
      ],
      "metadata": {
        "id": "HwVP7Xi34Zuw"
      },
      "execution_count": 50,
      "outputs": []
    },
    {
      "cell_type": "code",
      "source": [
        "# Pergunta ao Gemini uma informação utilizando a busca do Google como contexto\n",
        "\n",
        "response = client.models.generate_content(\n",
        "    model=MODEL_ID,\n",
        "    contents='Qual é a empresa responsavel por desenvolver o Gemini?',\n",
        "    config={\"tools\": [{\"google_search\": {}}]}\n",
        ")\n",
        "\n",
        "# Exibe a resposta na tela\n",
        "display(Markdown(f\"Resposta:\\n {response.text}\"))"
      ],
      "metadata": {
        "id": "yXaZd7iZ4ftw",
        "colab": {
          "base_uri": "https://localhost:8080/",
          "height": 64
        },
        "outputId": "0e6b02c7-0604-4f3b-a1e7-cf16d1d043a6"
      },
      "execution_count": 51,
      "outputs": [
        {
          "output_type": "display_data",
          "data": {
            "text/plain": [
              "<IPython.core.display.Markdown object>"
            ],
            "text/markdown": "Resposta:\n O Gemini é desenvolvido pelo Google, mais especificamente pela Google DeepMind, uma subsidiária da Google especializada em Inteligência Artificial e Machine Learning.\n"
          },
          "metadata": {}
        }
      ]
    },
    {
      "cell_type": "code",
      "source": [
        "# Exibe a busca\n",
        "print(f\"Busca realizada: {response.candidates[0].grounding_metadata.web_search_queries}\")\n",
        "# Exibe as URLs nas quais ele se baseou\n",
        "print(f\"Páginas utilizadas na resposta: {', '.join([site.web.title for site in response.candidates[0].grounding_metadata.grounding_chunks])}\")\n",
        "print()\n",
        "display(HTML(response.candidates[0].grounding_metadata.search_entry_point.rendered_content))"
      ],
      "metadata": {
        "id": "xHSNlTd84heJ",
        "colab": {
          "base_uri": "https://localhost:8080/",
          "height": 117
        },
        "outputId": "7bc4924b-802c-499f-bec1-5a03bf3eec72"
      },
      "execution_count": 52,
      "outputs": [
        {
          "output_type": "stream",
          "name": "stdout",
          "text": [
            "Busca realizada: ['qual empresa desenvolveu Gemini', 'empresa desenvolvedora do Gemini']\n",
            "Páginas utilizadas na resposta: ipnet.cloud\n",
            "\n"
          ]
        },
        {
          "output_type": "display_data",
          "data": {
            "text/plain": [
              "<IPython.core.display.HTML object>"
            ],
            "text/html": [
              "<style>\n",
              ".container {\n",
              "  align-items: center;\n",
              "  border-radius: 8px;\n",
              "  display: flex;\n",
              "  font-family: Google Sans, Roboto, sans-serif;\n",
              "  font-size: 14px;\n",
              "  line-height: 20px;\n",
              "  padding: 8px 12px;\n",
              "}\n",
              ".chip {\n",
              "  display: inline-block;\n",
              "  border: solid 1px;\n",
              "  border-radius: 16px;\n",
              "  min-width: 14px;\n",
              "  padding: 5px 16px;\n",
              "  text-align: center;\n",
              "  user-select: none;\n",
              "  margin: 0 8px;\n",
              "  -webkit-tap-highlight-color: transparent;\n",
              "}\n",
              ".carousel {\n",
              "  overflow: auto;\n",
              "  scrollbar-width: none;\n",
              "  white-space: nowrap;\n",
              "  margin-right: -12px;\n",
              "}\n",
              ".headline {\n",
              "  display: flex;\n",
              "  margin-right: 4px;\n",
              "}\n",
              ".gradient-container {\n",
              "  position: relative;\n",
              "}\n",
              ".gradient {\n",
              "  position: absolute;\n",
              "  transform: translate(3px, -9px);\n",
              "  height: 36px;\n",
              "  width: 9px;\n",
              "}\n",
              "@media (prefers-color-scheme: light) {\n",
              "  .container {\n",
              "    background-color: #fafafa;\n",
              "    box-shadow: 0 0 0 1px #0000000f;\n",
              "  }\n",
              "  .headline-label {\n",
              "    color: #1f1f1f;\n",
              "  }\n",
              "  .chip {\n",
              "    background-color: #ffffff;\n",
              "    border-color: #d2d2d2;\n",
              "    color: #5e5e5e;\n",
              "    text-decoration: none;\n",
              "  }\n",
              "  .chip:hover {\n",
              "    background-color: #f2f2f2;\n",
              "  }\n",
              "  .chip:focus {\n",
              "    background-color: #f2f2f2;\n",
              "  }\n",
              "  .chip:active {\n",
              "    background-color: #d8d8d8;\n",
              "    border-color: #b6b6b6;\n",
              "  }\n",
              "  .logo-dark {\n",
              "    display: none;\n",
              "  }\n",
              "  .gradient {\n",
              "    background: linear-gradient(90deg, #fafafa 15%, #fafafa00 100%);\n",
              "  }\n",
              "}\n",
              "@media (prefers-color-scheme: dark) {\n",
              "  .container {\n",
              "    background-color: #1f1f1f;\n",
              "    box-shadow: 0 0 0 1px #ffffff26;\n",
              "  }\n",
              "  .headline-label {\n",
              "    color: #fff;\n",
              "  }\n",
              "  .chip {\n",
              "    background-color: #2c2c2c;\n",
              "    border-color: #3c4043;\n",
              "    color: #fff;\n",
              "    text-decoration: none;\n",
              "  }\n",
              "  .chip:hover {\n",
              "    background-color: #353536;\n",
              "  }\n",
              "  .chip:focus {\n",
              "    background-color: #353536;\n",
              "  }\n",
              "  .chip:active {\n",
              "    background-color: #464849;\n",
              "    border-color: #53575b;\n",
              "  }\n",
              "  .logo-light {\n",
              "    display: none;\n",
              "  }\n",
              "  .gradient {\n",
              "    background: linear-gradient(90deg, #1f1f1f 15%, #1f1f1f00 100%);\n",
              "  }\n",
              "}\n",
              "</style>\n",
              "<div class=\"container\">\n",
              "  <div class=\"headline\">\n",
              "    <svg class=\"logo-light\" width=\"18\" height=\"18\" viewBox=\"9 9 35 35\" fill=\"none\" xmlns=\"http://www.w3.org/2000/svg\">\n",
              "      <path fill-rule=\"evenodd\" clip-rule=\"evenodd\" d=\"M42.8622 27.0064C42.8622 25.7839 42.7525 24.6084 42.5487 23.4799H26.3109V30.1568H35.5897C35.1821 32.3041 33.9596 34.1222 32.1258 35.3448V39.6864H37.7213C40.9814 36.677 42.8622 32.2571 42.8622 27.0064V27.0064Z\" fill=\"#4285F4\"/>\n",
              "      <path fill-rule=\"evenodd\" clip-rule=\"evenodd\" d=\"M26.3109 43.8555C30.9659 43.8555 34.8687 42.3195 37.7213 39.6863L32.1258 35.3447C30.5898 36.3792 28.6306 37.0061 26.3109 37.0061C21.8282 37.0061 18.0195 33.9811 16.6559 29.906H10.9194V34.3573C13.7563 39.9841 19.5712 43.8555 26.3109 43.8555V43.8555Z\" fill=\"#34A853\"/>\n",
              "      <path fill-rule=\"evenodd\" clip-rule=\"evenodd\" d=\"M16.6559 29.8904C16.3111 28.8559 16.1074 27.7588 16.1074 26.6146C16.1074 25.4704 16.3111 24.3733 16.6559 23.3388V18.8875H10.9194C9.74388 21.2072 9.06992 23.8247 9.06992 26.6146C9.06992 29.4045 9.74388 32.022 10.9194 34.3417L15.3864 30.8621L16.6559 29.8904V29.8904Z\" fill=\"#FBBC05\"/>\n",
              "      <path fill-rule=\"evenodd\" clip-rule=\"evenodd\" d=\"M26.3109 16.2386C28.85 16.2386 31.107 17.1164 32.9095 18.8091L37.8466 13.8719C34.853 11.082 30.9659 9.3736 26.3109 9.3736C19.5712 9.3736 13.7563 13.245 10.9194 18.8875L16.6559 23.3388C18.0195 19.2636 21.8282 16.2386 26.3109 16.2386V16.2386Z\" fill=\"#EA4335\"/>\n",
              "    </svg>\n",
              "    <svg class=\"logo-dark\" width=\"18\" height=\"18\" viewBox=\"0 0 48 48\" xmlns=\"http://www.w3.org/2000/svg\">\n",
              "      <circle cx=\"24\" cy=\"23\" fill=\"#FFF\" r=\"22\"/>\n",
              "      <path d=\"M33.76 34.26c2.75-2.56 4.49-6.37 4.49-11.26 0-.89-.08-1.84-.29-3H24.01v5.99h8.03c-.4 2.02-1.5 3.56-3.07 4.56v.75l3.91 2.97h.88z\" fill=\"#4285F4\"/>\n",
              "      <path d=\"M15.58 25.77A8.845 8.845 0 0 0 24 31.86c1.92 0 3.62-.46 4.97-1.31l4.79 3.71C31.14 36.7 27.65 38 24 38c-5.93 0-11.01-3.4-13.45-8.36l.17-1.01 4.06-2.85h.8z\" fill=\"#34A853\"/>\n",
              "      <path d=\"M15.59 20.21a8.864 8.864 0 0 0 0 5.58l-5.03 3.86c-.98-2-1.53-4.25-1.53-6.64 0-2.39.55-4.64 1.53-6.64l1-.22 3.81 2.98.22 1.08z\" fill=\"#FBBC05\"/>\n",
              "      <path d=\"M24 14.14c2.11 0 4.02.75 5.52 1.98l4.36-4.36C31.22 9.43 27.81 8 24 8c-5.93 0-11.01 3.4-13.45 8.36l5.03 3.85A8.86 8.86 0 0 1 24 14.14z\" fill=\"#EA4335\"/>\n",
              "    </svg>\n",
              "    <div class=\"gradient-container\"><div class=\"gradient\"></div></div>\n",
              "  </div>\n",
              "  <div class=\"carousel\">\n",
              "    <a class=\"chip\" href=\"https://vertexaisearch.cloud.google.com/grounding-api-redirect/AbF9wXFlDGkfZK8IR1-bi-I6BEAZaM-_XdERXJBBA9DszIsPVPtw-HPVsbfy6elULsD0c2vKhkLZQ-GPU-dqu61v3DdJ7DNQqjHhTLoxvvNpLV2x_Bbv7nL0VWFTHe-vm2O8NiAgfRPXj3ATifMexkOtLRXUM90dPNwE0epnSveb_AeOazUhbAbtwOICKQiiotcscs6QrPdbZCYH0RA_h224vuuNzoE=\">empresa desenvolvedora do Gemini</a>\n",
              "    <a class=\"chip\" href=\"https://vertexaisearch.cloud.google.com/grounding-api-redirect/AbF9wXFXF_LSaiHuMaBeT3j246ypLMfUTa4nSYDdL9psXtMjh82JfTTWmx1MYOOxKVW1shZjwMazmHm5sYqikn5clvgjusi5CryYcO3YAbCT27l9G1WFhkj9_t9BvxI-rNUAOLgPvbcMUsHcgzFktlSzKqhW2EmcyXCKLMs4PowSOhaM23L-luIDnt5-KcXCuzEDul73saJmFijdX1nqhYD0XDkNFw==\">qual empresa desenvolveu Gemini</a>\n",
              "  </div>\n",
              "</div>\n"
            ]
          },
          "metadata": {}
        }
      ]
    },
    {
      "cell_type": "code",
      "source": [
        "# Instalar Framework ADK de agentes do Google ################################################\n",
        "!pip install -q google-adk"
      ],
      "metadata": {
        "id": "hvZ3UnPI4jhJ"
      },
      "execution_count": 53,
      "outputs": []
    },
    {
      "cell_type": "code",
      "execution_count": 54,
      "metadata": {
        "id": "aePV2bdfDeoW"
      },
      "outputs": [],
      "source": [
        "from google.adk.agents import Agent\n",
        "from google.adk.runners import Runner\n",
        "from google.adk.sessions import InMemorySessionService\n",
        "from google.adk.tools import google_search\n",
        "from google.genai import types  # Para criar conteúdos (Content e Part)\n",
        "from datetime import date\n",
        "import textwrap # Para formatar melhor a saída de texto\n",
        "from IPython.display import display, Markdown # Para exibir texto formatado no Colab\n",
        "import requests # Para fazer requisições HTTP\n",
        "import warnings\n",
        "\n",
        "warnings.filterwarnings(\"ignore\")"
      ]
    },
    {
      "cell_type": "code",
      "source": [
        "# Função auxiliar que envia uma mensagem para um agente via Runner e retorna a resposta final\n",
        "def call_agent(agent: Agent, message_text: str) -> str:\n",
        "    # Cria um serviço de sessão em memória\n",
        "    session_service = InMemorySessionService()\n",
        "    # Cria uma nova sessão (você pode personalizar os IDs conforme necessário)\n",
        "    session = session_service.create_session(app_name=agent.name, user_id=\"user1\", session_id=\"session1\")\n",
        "    # Cria um Runner para o agente\n",
        "    runner = Runner(agent=agent, app_name=agent.name, session_service=session_service)\n",
        "    # Cria o conteúdo da mensagem de entrada\n",
        "    content = types.Content(role=\"user\", parts=[types.Part(text=message_text)])\n",
        "\n",
        "    final_response = \"\"\n",
        "    # Itera assincronamente pelos eventos retornados durante a execução do agente\n",
        "    for event in runner.run(user_id=\"user1\", session_id=\"session1\", new_message=content):\n",
        "        if event.is_final_response():\n",
        "          for part in event.content.parts:\n",
        "            if part.text is not None:\n",
        "              final_response += part.text\n",
        "              final_response += \"\\n\"\n",
        "    return final_response"
      ],
      "metadata": {
        "id": "_xP4lWhsS5ko"
      },
      "execution_count": 55,
      "outputs": []
    },
    {
      "cell_type": "code",
      "source": [
        "# Função auxiliar para exibir texto formatado em Markdown no Colab\n",
        "def to_markdown(text):\n",
        "  text = text.replace('•', '  *')\n",
        "  return Markdown(textwrap.indent(text, '> ', predicate=lambda _: True))"
      ],
      "metadata": {
        "id": "8dosiodaxfFR"
      },
      "execution_count": 56,
      "outputs": []
    },
    {
      "cell_type": "code",
      "source": [
        "##########################################\n",
        "# --- Agente 1: Buscador de Jogos --- #\n",
        "##########################################\n",
        "def agente_buscador(topico, data_de_hoje):\n",
        "    buscador = Agent(\n",
        "        name=\"agente_buscador\",\n",
        "        model=MODEL_ID,\n",
        "        description=\"Agente que busca lista de jogos eletrônicos\",\n",
        "        tools=[google_search],\n",
        "        instruction=\"\"\"\n",
        "          Você é um agente de pesquisa. A sua tarefa é usar a ferramenta de busca do Google (google_search) para buscar uma lista com os melhores jogos do ano anterior.\n",
        "          Foque em no máximo 5 melhores jogos, separados por categorias.\n",
        "          Exclua jogos que possuem temas eróticos.\n",
        "        \"\"\"\n",
        "    )\n",
        "    entrada_do_agente_buscador = f\"Tópico: {topico}\\nData de hoje: {data_de_hoje}\"\n",
        "\n",
        "    # Executa o agente\n",
        "    lancamentos = call_agent(buscador, entrada_do_agente_buscador)\n",
        "    return lancamentos"
      ],
      "metadata": {
        "id": "o8bqIfi_DyH8"
      },
      "execution_count": 57,
      "outputs": []
    },
    {
      "cell_type": "code",
      "source": [
        "################################################\n",
        "# --- Agente 2: Planejador de posts --- #\n",
        "################################################\n",
        "def agente_planejador(topico, lancamentos_buscados):\n",
        "    planejador = Agent(\n",
        "        name=\"agente_planejador\",\n",
        "        model=MODEL_ID,\n",
        "        # Inserir as instruções do Agente Planejador #################################################\n",
        "        instruction=\"\"\"\n",
        "          Você é um planejador de conteúdo, especialista em redes sociais. Com base na lista de lançamentos mais recentes e relevantes buscador, você deve:\n",
        "          usar a ferramenta de busca do Google (google_search) para criar um plano sobre quais são os jogos mais populares do ano anterior, você pode usar o (google_search) para encontrar a lista mais relevante com base nas suas pesquisas e retornar esse tema.\n",
        "        \"\"\",\n",
        "        description=\"Agente que planeja posts sobre a lista de jogos\",\n",
        "        tools=[google_search]\n",
        "    )\n",
        "\n",
        "    entrada_do_agente_planejador = f\"Tópico:{topico}\\nLançamentos buscados: {lancamentos_buscados}\"\n",
        "    # Executa o agente\n",
        "    plano_do_post = call_agent(planejador, entrada_do_agente_planejador)\n",
        "    return plano_do_post"
      ],
      "metadata": {
        "id": "y3VO1uo5_ghO"
      },
      "execution_count": 58,
      "outputs": []
    },
    {
      "cell_type": "code",
      "source": [
        "######################################\n",
        "# --- Agente 3: Redator do Post --- #\n",
        "######################################\n",
        "def agente_redator(topico, plano_de_post):\n",
        "    redator = Agent(\n",
        "        name=\"agente_redator\",\n",
        "        model=MODEL_ID,\n",
        "        instruction=\"\"\"\n",
        "            Você é um Redator Criativo especializado em criar posts virais para redes sociais.\n",
        "            Você vai escrever um resumo sobre os jogos mais populares do ano anterior.\n",
        "            Utilize o tema fornecido no plano de post e os pontos mais relevantes fornecidos e, com base nisso,\n",
        "            escreva um rascunho de post para um website sobre o tema indicado.\n",
        "            O post deve ser engajador, informativo, com linguagem simples e incluir 2 a 4 hashtags no final para compartilhamentos em redes sociais.\n",
        "            \"\"\",\n",
        "        description=\"Agente redator de posts engajadores para website\"\n",
        "    )\n",
        "    entrada_do_agente_redator = f\"Tópico: {topico}\\nPlano de post: {plano_de_post}\"\n",
        "    # Executa o agente\n",
        "    rascunho = call_agent(redator, entrada_do_agente_redator)\n",
        "    return rascunho"
      ],
      "metadata": {
        "id": "uOqlg2TRLVh1"
      },
      "execution_count": 59,
      "outputs": []
    },
    {
      "cell_type": "code",
      "source": [
        "##########################################\n",
        "# --- Agente 4: Revisor de Qualidade --- #\n",
        "##########################################\n",
        "def agente_revisor(topico, rascunho_gerado):\n",
        "    revisor = Agent(\n",
        "        name=\"agente_revisor\",\n",
        "        model=MODEL_ID,\n",
        "        instruction=\"\"\"\n",
        "            Você é um Editor e Revisor de Conteúdo meticuloso, especializado em posts sobre jogos eletrônicos, com foco em websites e blogs.\n",
        "            Por ter um público jovem, entre 18 e 30 anos, use um tom de escrita adequado.\n",
        "            Revise o rascunho de post de website e blog abaixo sobre o tópico indicado, verificando clareza, concisão, correção e tom.\n",
        "            Se o rascunho estiver bom, responda apenas 'O rascunho está ótimo e pronto para publicar!'.\n",
        "            Caso haja problemas, aponte-os e sugira melhorias.\n",
        "            \"\"\",\n",
        "        description=\"Agente revisor de post para websites e blogs.\"\n",
        "    )\n",
        "    entrada_do_agente_revisor = f\"Tópico: {topico}\\nRascunho: {rascunho_gerado}\"\n",
        "    # Executa o agente\n",
        "    texto_revisado = call_agent(revisor, entrada_do_agente_revisor)\n",
        "    return texto_revisado"
      ],
      "metadata": {
        "id": "_aTb1SdkLeT6"
      },
      "execution_count": 60,
      "outputs": []
    },
    {
      "cell_type": "code",
      "source": [
        "data_de_hoje = date.today().strftime(\"%d/%m/%Y\")\n",
        "\n",
        "print(\"🚀 Iniciando o Sistema de Criação de Posts para Websites e Blogs com 4 Agentes 🚀\")\n",
        "\n",
        "# --- Obter o Tópico do Usuário ---\n",
        "topico = input(\"❓ Por favor, digite qual CATEGORIA DE JOGOS quer criar o post. Será gerado um TOP 5 para o website ou blog: \")\n",
        "\n",
        "# Inserir lógica do sistema de agentes ################################################\n",
        "if not topico:\n",
        "  print(\"Você esqueceu de digitar a categoria!\")\n",
        "else:\n",
        "  print(f\"Maravilha! Vamos então criar o post sobre novidades em {topico}\")\n",
        "\n",
        "  lancamentos_buscados = agente_buscador(topico, data_de_hoje)\n",
        "\n",
        "  print(\"\\n--- Resultado do Agente 1 (Buscador) ---\\n\")\n",
        "  display(to_markdown(lancamentos_buscados))\n",
        "  print(\"--------------------------------------------------------------\")\n",
        "\n",
        "  plano_de_post = agente_planejador(topico, lancamentos_buscados)\n",
        "  print(\"\\n--- Resultado do Agente 2 (Planejador) ---\\n\")\n",
        "  display(to_markdown(plano_de_post))\n",
        "  print(\"--------------------------------------------------------------\")\n",
        "\n",
        "  rascunho_de_post = agente_redator(topico, plano_de_post)\n",
        "  print(\"\\n--- Resultado do Agente 3 (Redator) ---\\n\")\n",
        "  display(to_markdown(rascunho_de_post))\n",
        "  print(\"--------------------------------------------------------------\")\n",
        "\n",
        "  post_final = agente_revisor(topico, rascunho_de_post)\n",
        "  print(\"\\n--- Resultado do Agente 4 (Revisor) ---\\n\")\n",
        "  display(to_markdown(post_final))\n",
        "  print(\"--------------------------------------------------------------\")"
      ],
      "metadata": {
        "id": "630ummxz4myx",
        "colab": {
          "base_uri": "https://localhost:8080/",
          "height": 1000
        },
        "outputId": "71a9011e-8f5d-45d4-eb01-6a7ad52afe4b"
      },
      "execution_count": 61,
      "outputs": [
        {
          "output_type": "stream",
          "name": "stdout",
          "text": [
            "🚀 Iniciando o Sistema de Criação de Posts para Websites e Blogs com 4 Agentes 🚀\n",
            "❓ Por favor, digite qual CATEGORIA DE JOGOS quer criar o post. Será gerado um TOP 5 para o website ou blog: Corrida\n",
            "Maravilha! Vamos então criar o post sobre novidades em Corrida\n",
            "\n",
            "--- Resultado do Agente 1 (Buscador) ---\n",
            "\n"
          ]
        },
        {
          "output_type": "display_data",
          "data": {
            "text/plain": [
              "<IPython.core.display.Markdown object>"
            ],
            "text/markdown": "> Ok, aqui estão algumas buscas que posso fazer para encontrar os melhores jogos de corrida de 2024:\n> \n>  \n> Com base nas minhas buscas, aqui estão alguns dos melhores jogos de corrida de 2024, separados por categoria:\n> \n>  **Simuladores de Corrida:**\n> \n>  *   **Gran Turismo 7:** Apresenta gráficos ultrarrealistas, grande variedade de carros e pistas e um modo online bem desenvolvido.\n>  *   **Assetto Corsa Competizione:** Conhecido pela sua física realista e ótima experiência em VR.\n> \n>  **Corrida Arcade:**\n> \n>  *   **Hot Wheels Unleashed 2:** Oferece um extenso leque de veículos e permite criar as suas próprias pistas.\n>  *   **Mario Kart 8 Deluxe:** Suporta até quatro jogadores na mesma prova e permite jogar pequenos campeonatos.\n> \n>  **Mundo Aberto:**\n> \n>  *   **Forza Horizon 5:**  Oferece uma enorme variedade de carros e conteúdo extenso.\n> \n> Além destes, também foram mencionados outros jogos como F1 23, Need for Speed Unbound, Dirt 5, WRC Generations e jogos gratuitos na Steam como Trackmania, Disney Speedstorm e Asphalt Legends Unite.\n> \n"
          },
          "metadata": {}
        },
        {
          "output_type": "stream",
          "name": "stdout",
          "text": [
            "--------------------------------------------------------------\n",
            "\n",
            "--- Resultado do Agente 2 (Planejador) ---\n",
            "\n"
          ]
        },
        {
          "output_type": "display_data",
          "data": {
            "text/plain": [
              "<IPython.core.display.Markdown object>"
            ],
            "text/markdown": "> Com certeza! Para criar um plano de conteúdo atraente sobre os jogos de corrida mais populares de 2024, podemos abordar os seguintes temas e formatos:\n> \n> **1. Lista dos Melhores Jogos de Corrida de 2024 por Categoria:**\n> \n> *   **Post de Blog/Artigo:** \"Os Melhores Jogos de Corrida de 2024: Simuladores, Arcade e Mundo Aberto\".\n>     *   **Conteúdo:** Detalhar cada jogo listado (Gran Turismo 7, Assetto Corsa Competizione, Hot Wheels Unleashed 2, Mario Kart 8 Deluxe, Forza Horizon 5, etc.), mencionando seus pontos fortes, características únicas e para qual tipo de jogador ele é mais indicado.\n>     *   **SEO:** Palavras-chave como \"melhores jogos de corrida 2024\", \"simuladores de corrida\", \"jogos de corrida arcade\", \"jogos de mundo aberto\", \"Forza Horizon 5\", \"Gran Turismo 7\", etc.\n> *   **Vídeo no YouTube:** \"Top 5 Jogos de Corrida Imperdíveis de 2024\".\n>     *   **Conteúdo:** Mostrar gameplays de cada jogo, com comentários sobre os gráficos, jogabilidade e o que torna cada um especial.\n> *   **Infográfico:** \"Guia Rápido dos Melhores Jogos de Corrida de 2024\".\n>     *   **Conteúdo:** Comparar os jogos visualmente, com ícones para indicar características como \"Realismo\", \"Diversão Arcade\", \"Mundo Aberto\", \"Multiplayer Local\", etc.\n> \n> **2. Destaque para Simuladores de Corrida:**\n> \n> *   **Post no Instagram:** \"Para os Amantes do Realismo: Gran Turismo 7 e Assetto Corsa Competizione\".\n>     *   **Conteúdo:** Fotos e vídeos dos jogos, com legendas destacando a física realista, gráficos impressionantes e a experiência imersiva de VR.\n> *   **Review Detalhada no Blog:** \"Assetto Corsa Competizione: O Simulador Definitivo para Fãs de GT\".\n>     *   **Conteúdo:** Análise aprofundada da física, dos carros, das pistas e da experiência online.\n> \n> **3. Foco em Corrida Arcade e Diversão:**\n> \n> *   **TikTok:** Vídeos curtos e divertidos de Hot Wheels Unleashed 2 e Mario Kart 8 Deluxe.\n>     *   **Conteúdo:** Momentos engraçados, manobras radicais e a jogabilidade caótica e divertida desses jogos.\n> *   **Enquete no Twitter:** \"Qual o Melhor Jogo de Corrida Arcade de 2024?\".\n>     *   **Opções:** Hot Wheels Unleashed 2, Mario Kart 8 Deluxe, Disney Speedstorm, Asphalt Legends Unite.\n> \n> **4. Mundo Aberto e Exploração:**\n> \n> *   **Post no Facebook:** \"Forza Horizon 5: A Combinação Perfeita de Corrida e Mundo Aberto\".\n>     *   **Conteúdo:** Fotos e vídeos mostrando a beleza dos cenários, a variedade de carros e as atividades disponíveis no jogo.\n> *   **Artigo no Blog:** \"Forza Horizon 5: Um Guia para Iniciantes no Mundo Aberto das Corridas\".\n>     *   **Conteúdo:** Dicas para explorar o mapa, participar de eventos e personalizar carros.\n> \n> **5. Outros Jogos e Destaques:**\n> \n> *   **Post no LinkedIn:** \"F1 23: A Experiência Definitiva da Fórmula 1 nos Games\".\n>     *   **Conteúdo:** Focar na simulação precisa da F1, nos gráficos realistas e na experiência de carreira.\n> *   **Twitch:** Transmissões ao vivo jogando Trackmania, Disney Speedstorm e Asphalt Legends Unite.\n>     *   **Conteúdo:** Interagir com o público, mostrar as mecânicas únicas de cada jogo e fazer desafios.\n> \n> **Hashtags:**\n> \n> *   \\#jogosdecorrida \\#corrida \\#gaming \\#videogames \\#simuladordecorrida \\#arcadegaming \\#mundogamer \\#forzahorizon5 \\#granturismo7 \\#mariokart \\#hotwheelsunleashed \\#f123 \\#trackmania \\#disneyspeedstorm \\#asphaltlegends\n> \n> **Observações:**\n> \n> *   Adapte o conteúdo para cada plataforma, utilizando os formatos e estilos mais adequados.\n> *   Use imagens e vídeos de alta qualidade para tornar os posts mais atraentes.\n> *   Interaja com o público, respondendo a comentários e perguntas.\n> *   Monitore as tendências e novidades do mundo dos jogos de corrida para manter o conteúdo sempre atualizado.\n> \n> Com este plano, você poderá criar conteúdo diversificado e interessante para atrair fãs de corrida de todas as plataformas!\n> \n"
          },
          "metadata": {}
        },
        {
          "output_type": "stream",
          "name": "stdout",
          "text": [
            "--------------------------------------------------------------\n",
            "\n",
            "--- Resultado do Agente 3 (Redator) ---\n",
            "\n"
          ]
        },
        {
          "output_type": "display_data",
          "data": {
            "text/plain": [
              "<IPython.core.display.Markdown object>"
            ],
            "text/markdown": "> **Prepare-se para a Aceleração: Os Jogos de Corrida Mais Insanos de 2024!** \n> \n> 2024 foi um ano ÉPICO para os amantes da velocidade virtual! \n> \n> Tivemos desde simuladores realistas que te fazem sentir cada curva, até jogos arcade que desafiam a gravidade com manobras INSANAS. \n> \n> Se liga nos destaques:\n> \n> *   **Gran Turismo 7:** Para os apaixonados por realismo, GT7 elevou o nível com gráficos de cair o queixo e física impecável.\n> *   **Hot Wheels Unleashed 2:** A nostalgia e a diversão arcade se encontraram nesse jogo frenético, perfeito para quem quer zerar no role play.\n> *   **Forza Horizon 5:** Explorar um mundo aberto gigante enquanto pilota carrões alucinantes? Forza Horizon 5 entregou tudo!\n> \n> E aí, qual foi seu jogo de corrida favorito de 2024? Conta pra gente nos comentários! \n> \n> \\#jogosdecorrida \\#corrida \\#gaming \\#videogames\n> \n"
          },
          "metadata": {}
        },
        {
          "output_type": "stream",
          "name": "stdout",
          "text": [
            "--------------------------------------------------------------\n",
            "\n",
            "--- Resultado do Agente 4 (Revisor) ---\n",
            "\n"
          ]
        },
        {
          "output_type": "display_data",
          "data": {
            "text/plain": [
              "<IPython.core.display.Markdown object>"
            ],
            "text/markdown": "> O rascunho está bom, mas podemos deixá-lo ainda mais interessante e otimizado para o público jovem! Aqui estão algumas sugestões:\n> \n> *   **Título:** O título atual é bom, mas podemos adicionar um toque de mistério ou exclusividade. Que tal algo como \"Acelerando em 2024: Os 5 Jogos de Corrida Que Você PRECISA Jogar!\"? Listas numeradas costumam atrair mais cliques.\n> *   **Introdução:** A introdução está um pouco genérica. Que tal algo mais chamativo e direto ao ponto? Exemplo: \"2024 já está na história para os fãs de jogos de corrida! De simuladores ultra realistas a arcades insanos, prepare-se para conhecer os jogos que botaram fogo nas pistas (virtuais, claro!).\"\n> *   **Listagem dos jogos:**\n>     *   **Gran Turismo 7:** Ótimo para quem busca realismo, mas podemos adicionar um detalhe extra: \"Se você é do tipo que passa horas ajustando a pressão dos pneus, GT7 é seu paraíso. Gráficos de nova geração e física que te fazem sentir cada grama de força G.\"\n>     *   **Hot Wheels Unleashed 2:** Boa descrição, mas podemos adicionar um pouco mais de hype: \"Aquele gostinho de infância turbinado! Hot Wheels Unleashed 2 é pura adrenalina arcade. Manobras insanas, pistas de tirar o fôlego e a nostalgia que a gente ama.\"\n>     *   **Forza Horizon 5:** Excelente para quem curte mundo aberto, mas podemos ser mais específicos: \"Imagine dirigir um supercarro em paisagens de tirar o fôlego... Forza Horizon 5 te dá essa liberdade! Explore um mapa GIGANTE, participe de eventos insanos e mostre quem manda no asfalto (ou na terra, na neve...).\n> *   **Chamada para ação (CTA):** A pergunta no final é boa, mas podemos ser mais incisivos: \"E aí, qual desses jogos te fez acelerar em 2024? Deixe seu comentário e compartilhe sua experiência! E não esqueça de marcar aquele amigo(a) que também ama jogos de corrida!\"\n> *   **Hashtags:** As hashtags estão ok, mas podemos adicionar algumas mais específicas e populares: \\#GT7 \\#HotWheelsUnleashed2 \\#ForzaHorizon5 \\#SimRacing \\#ArcadeRacing \\#Gamer \\#GamingLife\n> *   **Tom:** O tom geral está bom, mas podemos adicionar um pouco mais de empolgação e usar mais gírias/expressões que o público jovem usa.\n> \n> Com essas pequenas mudanças, o post ficará ainda mais atraente e engajador!\n> \n"
          },
          "metadata": {}
        },
        {
          "output_type": "stream",
          "name": "stdout",
          "text": [
            "--------------------------------------------------------------\n"
          ]
        }
      ]
    }
  ]
}
